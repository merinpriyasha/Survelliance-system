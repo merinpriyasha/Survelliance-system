{
  "cells": [
    {
      "cell_type": "markdown",
      "metadata": {
        "id": "view-in-github",
        "colab_type": "text"
      },
      "source": [
        "<a href=\"https://colab.research.google.com/github/merinpriyasha/Survelliance-system/blob/main/Weather_Prediction_KNN.ipynb\" target=\"_parent\"><img src=\"https://colab.research.google.com/assets/colab-badge.svg\" alt=\"Open In Colab\"/></a>"
      ]
    },
    {
      "cell_type": "code",
      "execution_count": null,
      "metadata": {
        "colab": {
          "base_uri": "https://localhost:8080/"
        },
        "id": "5xQpRgEv3FSx",
        "outputId": "62be4f1f-2134-4a71-840f-88ef222d623e"
      },
      "outputs": [
        {
          "output_type": "stream",
          "name": "stdout",
          "text": [
            "Drive already mounted at /content/gdrive; to attempt to forcibly remount, call drive.mount(\"/content/gdrive\", force_remount=True).\n"
          ]
        }
      ],
      "source": [
        "from google.colab import drive\n",
        "drive.mount('/content/gdrive')"
      ]
    },
    {
      "cell_type": "code",
      "execution_count": null,
      "metadata": {
        "id": "aOX0XTVRHPH2"
      },
      "outputs": [],
      "source": [
        "#Import the libraries\n",
        "import pandas as pd\n",
        "import numpy as np"
      ]
    },
    {
      "cell_type": "code",
      "execution_count": null,
      "metadata": {
        "colab": {
          "base_uri": "https://localhost:8080/",
          "height": 39,
          "resources": {
            "http://localhost:8080/nbextensions/google.colab/files.js": {
              "data": "Ly8gQ29weXJpZ2h0IDIwMTcgR29vZ2xlIExMQwovLwovLyBMaWNlbnNlZCB1bmRlciB0aGUgQXBhY2hlIExpY2Vuc2UsIFZlcnNpb24gMi4wICh0aGUgIkxpY2Vuc2UiKTsKLy8geW91IG1heSBub3QgdXNlIHRoaXMgZmlsZSBleGNlcHQgaW4gY29tcGxpYW5jZSB3aXRoIHRoZSBMaWNlbnNlLgovLyBZb3UgbWF5IG9idGFpbiBhIGNvcHkgb2YgdGhlIExpY2Vuc2UgYXQKLy8KLy8gICAgICBodHRwOi8vd3d3LmFwYWNoZS5vcmcvbGljZW5zZXMvTElDRU5TRS0yLjAKLy8KLy8gVW5sZXNzIHJlcXVpcmVkIGJ5IGFwcGxpY2FibGUgbGF3IG9yIGFncmVlZCB0byBpbiB3cml0aW5nLCBzb2Z0d2FyZQovLyBkaXN0cmlidXRlZCB1bmRlciB0aGUgTGljZW5zZSBpcyBkaXN0cmlidXRlZCBvbiBhbiAiQVMgSVMiIEJBU0lTLAovLyBXSVRIT1VUIFdBUlJBTlRJRVMgT1IgQ09ORElUSU9OUyBPRiBBTlkgS0lORCwgZWl0aGVyIGV4cHJlc3Mgb3IgaW1wbGllZC4KLy8gU2VlIHRoZSBMaWNlbnNlIGZvciB0aGUgc3BlY2lmaWMgbGFuZ3VhZ2UgZ292ZXJuaW5nIHBlcm1pc3Npb25zIGFuZAovLyBsaW1pdGF0aW9ucyB1bmRlciB0aGUgTGljZW5zZS4KCi8qKgogKiBAZmlsZW92ZXJ2aWV3IEhlbHBlcnMgZm9yIGdvb2dsZS5jb2xhYiBQeXRob24gbW9kdWxlLgogKi8KKGZ1bmN0aW9uKHNjb3BlKSB7CmZ1bmN0aW9uIHNwYW4odGV4dCwgc3R5bGVBdHRyaWJ1dGVzID0ge30pIHsKICBjb25zdCBlbGVtZW50ID0gZG9jdW1lbnQuY3JlYXRlRWxlbWVudCgnc3BhbicpOwogIGVsZW1lbnQudGV4dENvbnRlbnQgPSB0ZXh0OwogIGZvciAoY29uc3Qga2V5IG9mIE9iamVjdC5rZXlzKHN0eWxlQXR0cmlidXRlcykpIHsKICAgIGVsZW1lbnQuc3R5bGVba2V5XSA9IHN0eWxlQXR0cmlidXRlc1trZXldOwogIH0KICByZXR1cm4gZWxlbWVudDsKfQoKLy8gTWF4IG51bWJlciBvZiBieXRlcyB3aGljaCB3aWxsIGJlIHVwbG9hZGVkIGF0IGEgdGltZS4KY29uc3QgTUFYX1BBWUxPQURfU0laRSA9IDEwMCAqIDEwMjQ7CgpmdW5jdGlvbiBfdXBsb2FkRmlsZXMoaW5wdXRJZCwgb3V0cHV0SWQpIHsKICBjb25zdCBzdGVwcyA9IHVwbG9hZEZpbGVzU3RlcChpbnB1dElkLCBvdXRwdXRJZCk7CiAgY29uc3Qgb3V0cHV0RWxlbWVudCA9IGRvY3VtZW50LmdldEVsZW1lbnRCeUlkKG91dHB1dElkKTsKICAvLyBDYWNoZSBzdGVwcyBvbiB0aGUgb3V0cHV0RWxlbWVudCB0byBtYWtlIGl0IGF2YWlsYWJsZSBmb3IgdGhlIG5leHQgY2FsbAogIC8vIHRvIHVwbG9hZEZpbGVzQ29udGludWUgZnJvbSBQeXRob24uCiAgb3V0cHV0RWxlbWVudC5zdGVwcyA9IHN0ZXBzOwoKICByZXR1cm4gX3VwbG9hZEZpbGVzQ29udGludWUob3V0cHV0SWQpOwp9CgovLyBUaGlzIGlzIHJvdWdobHkgYW4gYXN5bmMgZ2VuZXJhdG9yIChub3Qgc3VwcG9ydGVkIGluIHRoZSBicm93c2VyIHlldCksCi8vIHdoZXJlIHRoZXJlIGFyZSBtdWx0aXBsZSBhc3luY2hyb25vdXMgc3RlcHMgYW5kIHRoZSBQeXRob24gc2lkZSBpcyBnb2luZwovLyB0byBwb2xsIGZvciBjb21wbGV0aW9uIG9mIGVhY2ggc3RlcC4KLy8gVGhpcyB1c2VzIGEgUHJvbWlzZSB0byBibG9jayB0aGUgcHl0aG9uIHNpZGUgb24gY29tcGxldGlvbiBvZiBlYWNoIHN0ZXAsCi8vIHRoZW4gcGFzc2VzIHRoZSByZXN1bHQgb2YgdGhlIHByZXZpb3VzIHN0ZXAgYXMgdGhlIGlucHV0IHRvIHRoZSBuZXh0IHN0ZXAuCmZ1bmN0aW9uIF91cGxvYWRGaWxlc0NvbnRpbnVlKG91dHB1dElkKSB7CiAgY29uc3Qgb3V0cHV0RWxlbWVudCA9IGRvY3VtZW50LmdldEVsZW1lbnRCeUlkKG91dHB1dElkKTsKICBjb25zdCBzdGVwcyA9IG91dHB1dEVsZW1lbnQuc3RlcHM7CgogIGNvbnN0IG5leHQgPSBzdGVwcy5uZXh0KG91dHB1dEVsZW1lbnQubGFzdFByb21pc2VWYWx1ZSk7CiAgcmV0dXJuIFByb21pc2UucmVzb2x2ZShuZXh0LnZhbHVlLnByb21pc2UpLnRoZW4oKHZhbHVlKSA9PiB7CiAgICAvLyBDYWNoZSB0aGUgbGFzdCBwcm9taXNlIHZhbHVlIHRvIG1ha2UgaXQgYXZhaWxhYmxlIHRvIHRoZSBuZXh0CiAgICAvLyBzdGVwIG9mIHRoZSBnZW5lcmF0b3IuCiAgICBvdXRwdXRFbGVtZW50Lmxhc3RQcm9taXNlVmFsdWUgPSB2YWx1ZTsKICAgIHJldHVybiBuZXh0LnZhbHVlLnJlc3BvbnNlOwogIH0pOwp9CgovKioKICogR2VuZXJhdG9yIGZ1bmN0aW9uIHdoaWNoIGlzIGNhbGxlZCBiZXR3ZWVuIGVhY2ggYXN5bmMgc3RlcCBvZiB0aGUgdXBsb2FkCiAqIHByb2Nlc3MuCiAqIEBwYXJhbSB7c3RyaW5nfSBpbnB1dElkIEVsZW1lbnQgSUQgb2YgdGhlIGlucHV0IGZpbGUgcGlja2VyIGVsZW1lbnQuCiAqIEBwYXJhbSB7c3RyaW5nfSBvdXRwdXRJZCBFbGVtZW50IElEIG9mIHRoZSBvdXRwdXQgZGlzcGxheS4KICogQHJldHVybiB7IUl0ZXJhYmxlPCFPYmplY3Q+fSBJdGVyYWJsZSBvZiBuZXh0IHN0ZXBzLgogKi8KZnVuY3Rpb24qIHVwbG9hZEZpbGVzU3RlcChpbnB1dElkLCBvdXRwdXRJZCkgewogIGNvbnN0IGlucHV0RWxlbWVudCA9IGRvY3VtZW50LmdldEVsZW1lbnRCeUlkKGlucHV0SWQpOwogIGlucHV0RWxlbWVudC5kaXNhYmxlZCA9IGZhbHNlOwoKICBjb25zdCBvdXRwdXRFbGVtZW50ID0gZG9jdW1lbnQuZ2V0RWxlbWVudEJ5SWQob3V0cHV0SWQpOwogIG91dHB1dEVsZW1lbnQuaW5uZXJIVE1MID0gJyc7CgogIGNvbnN0IHBpY2tlZFByb21pc2UgPSBuZXcgUHJvbWlzZSgocmVzb2x2ZSkgPT4gewogICAgaW5wdXRFbGVtZW50LmFkZEV2ZW50TGlzdGVuZXIoJ2NoYW5nZScsIChlKSA9PiB7CiAgICAgIHJlc29sdmUoZS50YXJnZXQuZmlsZXMpOwogICAgfSk7CiAgfSk7CgogIGNvbnN0IGNhbmNlbCA9IGRvY3VtZW50LmNyZWF0ZUVsZW1lbnQoJ2J1dHRvbicpOwogIGlucHV0RWxlbWVudC5wYXJlbnRFbGVtZW50LmFwcGVuZENoaWxkKGNhbmNlbCk7CiAgY2FuY2VsLnRleHRDb250ZW50ID0gJ0NhbmNlbCB1cGxvYWQnOwogIGNvbnN0IGNhbmNlbFByb21pc2UgPSBuZXcgUHJvbWlzZSgocmVzb2x2ZSkgPT4gewogICAgY2FuY2VsLm9uY2xpY2sgPSAoKSA9PiB7CiAgICAgIHJlc29sdmUobnVsbCk7CiAgICB9OwogIH0pOwoKICAvLyBXYWl0IGZvciB0aGUgdXNlciB0byBwaWNrIHRoZSBmaWxlcy4KICBjb25zdCBmaWxlcyA9IHlpZWxkIHsKICAgIHByb21pc2U6IFByb21pc2UucmFjZShbcGlja2VkUHJvbWlzZSwgY2FuY2VsUHJvbWlzZV0pLAogICAgcmVzcG9uc2U6IHsKICAgICAgYWN0aW9uOiAnc3RhcnRpbmcnLAogICAgfQogIH07CgogIGNhbmNlbC5yZW1vdmUoKTsKCiAgLy8gRGlzYWJsZSB0aGUgaW5wdXQgZWxlbWVudCBzaW5jZSBmdXJ0aGVyIHBpY2tzIGFyZSBub3QgYWxsb3dlZC4KICBpbnB1dEVsZW1lbnQuZGlzYWJsZWQgPSB0cnVlOwoKICBpZiAoIWZpbGVzKSB7CiAgICByZXR1cm4gewogICAgICByZXNwb25zZTogewogICAgICAgIGFjdGlvbjogJ2NvbXBsZXRlJywKICAgICAgfQogICAgfTsKICB9CgogIGZvciAoY29uc3QgZmlsZSBvZiBmaWxlcykgewogICAgY29uc3QgbGkgPSBkb2N1bWVudC5jcmVhdGVFbGVtZW50KCdsaScpOwogICAgbGkuYXBwZW5kKHNwYW4oZmlsZS5uYW1lLCB7Zm9udFdlaWdodDogJ2JvbGQnfSkpOwogICAgbGkuYXBwZW5kKHNwYW4oCiAgICAgICAgYCgke2ZpbGUudHlwZSB8fCAnbi9hJ30pIC0gJHtmaWxlLnNpemV9IGJ5dGVzLCBgICsKICAgICAgICBgbGFzdCBtb2RpZmllZDogJHsKICAgICAgICAgICAgZmlsZS5sYXN0TW9kaWZpZWREYXRlID8gZmlsZS5sYXN0TW9kaWZpZWREYXRlLnRvTG9jYWxlRGF0ZVN0cmluZygpIDoKICAgICAgICAgICAgICAgICAgICAgICAgICAgICAgICAgICAgJ24vYSd9IC0gYCkpOwogICAgY29uc3QgcGVyY2VudCA9IHNwYW4oJzAlIGRvbmUnKTsKICAgIGxpLmFwcGVuZENoaWxkKHBlcmNlbnQpOwoKICAgIG91dHB1dEVsZW1lbnQuYXBwZW5kQ2hpbGQobGkpOwoKICAgIGNvbnN0IGZpbGVEYXRhUHJvbWlzZSA9IG5ldyBQcm9taXNlKChyZXNvbHZlKSA9PiB7CiAgICAgIGNvbnN0IHJlYWRlciA9IG5ldyBGaWxlUmVhZGVyKCk7CiAgICAgIHJlYWRlci5vbmxvYWQgPSAoZSkgPT4gewogICAgICAgIHJlc29sdmUoZS50YXJnZXQucmVzdWx0KTsKICAgICAgfTsKICAgICAgcmVhZGVyLnJlYWRBc0FycmF5QnVmZmVyKGZpbGUpOwogICAgfSk7CiAgICAvLyBXYWl0IGZvciB0aGUgZGF0YSB0byBiZSByZWFkeS4KICAgIGxldCBmaWxlRGF0YSA9IHlpZWxkIHsKICAgICAgcHJvbWlzZTogZmlsZURhdGFQcm9taXNlLAogICAgICByZXNwb25zZTogewogICAgICAgIGFjdGlvbjogJ2NvbnRpbnVlJywKICAgICAgfQogICAgfTsKCiAgICAvLyBVc2UgYSBjaHVua2VkIHNlbmRpbmcgdG8gYXZvaWQgbWVzc2FnZSBzaXplIGxpbWl0cy4gU2VlIGIvNjIxMTU2NjAuCiAgICBsZXQgcG9zaXRpb24gPSAwOwogICAgZG8gewogICAgICBjb25zdCBsZW5ndGggPSBNYXRoLm1pbihmaWxlRGF0YS5ieXRlTGVuZ3RoIC0gcG9zaXRpb24sIE1BWF9QQVlMT0FEX1NJWkUpOwogICAgICBjb25zdCBjaHVuayA9IG5ldyBVaW50OEFycmF5KGZpbGVEYXRhLCBwb3NpdGlvbiwgbGVuZ3RoKTsKICAgICAgcG9zaXRpb24gKz0gbGVuZ3RoOwoKICAgICAgY29uc3QgYmFzZTY0ID0gYnRvYShTdHJpbmcuZnJvbUNoYXJDb2RlLmFwcGx5KG51bGwsIGNodW5rKSk7CiAgICAgIHlpZWxkIHsKICAgICAgICByZXNwb25zZTogewogICAgICAgICAgYWN0aW9uOiAnYXBwZW5kJywKICAgICAgICAgIGZpbGU6IGZpbGUubmFtZSwKICAgICAgICAgIGRhdGE6IGJhc2U2NCwKICAgICAgICB9LAogICAgICB9OwoKICAgICAgbGV0IHBlcmNlbnREb25lID0gZmlsZURhdGEuYnl0ZUxlbmd0aCA9PT0gMCA/CiAgICAgICAgICAxMDAgOgogICAgICAgICAgTWF0aC5yb3VuZCgocG9zaXRpb24gLyBmaWxlRGF0YS5ieXRlTGVuZ3RoKSAqIDEwMCk7CiAgICAgIHBlcmNlbnQudGV4dENvbnRlbnQgPSBgJHtwZXJjZW50RG9uZX0lIGRvbmVgOwoKICAgIH0gd2hpbGUgKHBvc2l0aW9uIDwgZmlsZURhdGEuYnl0ZUxlbmd0aCk7CiAgfQoKICAvLyBBbGwgZG9uZS4KICB5aWVsZCB7CiAgICByZXNwb25zZTogewogICAgICBhY3Rpb246ICdjb21wbGV0ZScsCiAgICB9CiAgfTsKfQoKc2NvcGUuZ29vZ2xlID0gc2NvcGUuZ29vZ2xlIHx8IHt9OwpzY29wZS5nb29nbGUuY29sYWIgPSBzY29wZS5nb29nbGUuY29sYWIgfHwge307CnNjb3BlLmdvb2dsZS5jb2xhYi5fZmlsZXMgPSB7CiAgX3VwbG9hZEZpbGVzLAogIF91cGxvYWRGaWxlc0NvbnRpbnVlLAp9Owp9KShzZWxmKTsK",
              "headers": [
                [
                  "content-type",
                  "application/javascript"
                ]
              ],
              "ok": true,
              "status": 200,
              "status_text": ""
            }
          }
        },
        "id": "hQIGdiWsLhA3",
        "outputId": "03a3d22a-2a2d-4bc9-f795-a296266b94df"
      },
      "outputs": [
        {
          "output_type": "display_data",
          "data": {
            "text/plain": [
              "<IPython.core.display.HTML object>"
            ],
            "text/html": [
              "\n",
              "     <input type=\"file\" id=\"files-1f5a5671-67a3-47fd-a6f7-5b5330fae81f\" name=\"files[]\" multiple disabled\n",
              "        style=\"border:none\" />\n",
              "     <output id=\"result-1f5a5671-67a3-47fd-a6f7-5b5330fae81f\">\n",
              "      Upload widget is only available when the cell has been executed in the\n",
              "      current browser session. Please rerun this cell to enable.\n",
              "      </output>\n",
              "      <script src=\"/nbextensions/google.colab/files.js\"></script> "
            ]
          },
          "metadata": {}
        }
      ],
      "source": [
        "from google.colab import files\n",
        "uploaded = files.upload()"
      ]
    },
    {
      "cell_type": "code",
      "execution_count": null,
      "metadata": {
        "colab": {
          "base_uri": "https://localhost:8080/",
          "height": 850
        },
        "id": "6peWAFIPIB_B",
        "outputId": "c25a4232-78fa-4a65-8e29-143a86d467d3"
      },
      "outputs": [
        {
          "output_type": "execute_result",
          "data": {
            "text/plain": [
              "      Local time in Katunayake / Bandaranaike (airport)     T     Po      P  \\\n",
              "0                                      08.03.2022 23:30  26.0  757.7  758.6   \n",
              "1                                      08.03.2022 08:30  28.6  757.6  758.5   \n",
              "2                                      08.03.2022 02:30  25.4  756.3  757.2   \n",
              "3                                      07.03.2022 23:30  26.5  757.6  758.5   \n",
              "4                                      07.03.2022 08:30  27.4  757.1  758.0   \n",
              "...                                                 ...   ...    ...    ...   \n",
              "17003                                  07.01.2015 02:30  24.0  757.5  758.2   \n",
              "17004                                  04.01.2015 02:30  23.5  758.0  758.7   \n",
              "17005                                  03.01.2015 02:30  22.0  758.0  758.7   \n",
              "17006                                  02.01.2015 02:30  23.1  757.0  757.7   \n",
              "17007                                  01.01.2015 02:30  25.2  755.6  756.3   \n",
              "\n",
              "        Pa     U                                DD   Ff  ff10  ff3  ...  \\\n",
              "0      NaN  84.0                     Calm, no wind  0.0   NaN  NaN  ...   \n",
              "1      NaN  83.0                     Calm, no wind  0.0   NaN  NaN  ...   \n",
              "2     -1.3  93.0                     Calm, no wind  0.0   NaN  NaN  ...   \n",
              "3      NaN  89.0                     Calm, no wind  0.0   NaN  NaN  ...   \n",
              "4      NaN  80.0  Wind blowing from the north-east  3.0   NaN  NaN  ...   \n",
              "...    ...   ...                               ...  ...   ...  ...  ...   \n",
              "17003  NaN  91.0  Wind blowing from the north-east  4.0   NaN  NaN  ...   \n",
              "17004  NaN  94.0                     Calm, no wind  0.0   NaN  NaN  ...   \n",
              "17005  NaN  97.0                     Calm, no wind  0.0   NaN  NaN  ...   \n",
              "17006  NaN  98.0  Wind blowing from the south-east  2.0   NaN  NaN  ...   \n",
              "17007  NaN  97.0  Wind blowing from the south-east  2.0   NaN  NaN  ...   \n",
              "\n",
              "                                                 Cm  \\\n",
              "0      No Altocumulus, Altostratus or Nimbostratus.   \n",
              "1      No Altocumulus, Altostratus or Nimbostratus.   \n",
              "2      No Altocumulus, Altostratus or Nimbostratus.   \n",
              "3      No Altocumulus, Altostratus or Nimbostratus.   \n",
              "4      No Altocumulus, Altostratus or Nimbostratus.   \n",
              "...                                             ...   \n",
              "17003   Altocumulus translucidus at a single level.   \n",
              "17004  No Altocumulus, Altostratus or Nimbostratus.   \n",
              "17005  No Altocumulus, Altostratus or Nimbostratus.   \n",
              "17006  No Altocumulus, Altostratus or Nimbostratus.   \n",
              "17007  No Altocumulus, Altostratus or Nimbostratus.   \n",
              "\n",
              "                                                      Ch  VV    Td  \\\n",
              "0      Cirrus (often in bands) and Cirrostratus, or C...  10  23.1   \n",
              "1      Cirrus (often in bands) and Cirrostratus, or C...  10  25.5   \n",
              "2      Cirrus (often in bands) and Cirrostratus, or C...   9  24.2   \n",
              "3      Cirrus (often in bands) and Cirrostratus, or C...  20  24.5   \n",
              "4      Cirrus (often in bands) and Cirrostratus, or C...  20  23.6   \n",
              "...                                                  ...  ..   ...   \n",
              "17003  Cirrus fibratus, sometimes uncinus, not progre...  16  22.5   \n",
              "17004  Cirrus fibratus, sometimes uncinus, not progre...   8  22.5   \n",
              "17005  Cirrus fibratus, sometimes uncinus, not progre...   8  21.5   \n",
              "17006  Cirrus fibratus, sometimes uncinus, not progre...   7  22.7   \n",
              "17007  Cirrus fibratus, sometimes uncinus, not progre...   5  24.7   \n",
              "\n",
              "                    RRR   tR   E  Tg   E' sss  \n",
              "0      No precipitation  3.0 NaN NaN  NaN NaN  \n",
              "1      No precipitation  3.0 NaN NaN  NaN NaN  \n",
              "2      No precipitation  3.0 NaN NaN  NaN NaN  \n",
              "3      No precipitation  3.0 NaN NaN  NaN NaN  \n",
              "4      No precipitation  3.0 NaN NaN  NaN NaN  \n",
              "...                 ...  ...  ..  ..  ...  ..  \n",
              "17003  No precipitation  3.0 NaN NaN  NaN NaN  \n",
              "17004  No precipitation  3.0 NaN NaN  NaN NaN  \n",
              "17005  No precipitation  3.0 NaN NaN  NaN NaN  \n",
              "17006  No precipitation  3.0 NaN NaN  NaN NaN  \n",
              "17007  No precipitation  3.0 NaN NaN  NaN NaN  \n",
              "\n",
              "[17008 rows x 29 columns]"
            ],
            "text/html": [
              "\n",
              "  <div id=\"df-5b7ed77c-3031-446a-b07a-1feb9acc1622\">\n",
              "    <div class=\"colab-df-container\">\n",
              "      <div>\n",
              "<style scoped>\n",
              "    .dataframe tbody tr th:only-of-type {\n",
              "        vertical-align: middle;\n",
              "    }\n",
              "\n",
              "    .dataframe tbody tr th {\n",
              "        vertical-align: top;\n",
              "    }\n",
              "\n",
              "    .dataframe thead th {\n",
              "        text-align: right;\n",
              "    }\n",
              "</style>\n",
              "<table border=\"1\" class=\"dataframe\">\n",
              "  <thead>\n",
              "    <tr style=\"text-align: right;\">\n",
              "      <th></th>\n",
              "      <th>Local time in Katunayake / Bandaranaike (airport)</th>\n",
              "      <th>T</th>\n",
              "      <th>Po</th>\n",
              "      <th>P</th>\n",
              "      <th>Pa</th>\n",
              "      <th>U</th>\n",
              "      <th>DD</th>\n",
              "      <th>Ff</th>\n",
              "      <th>ff10</th>\n",
              "      <th>ff3</th>\n",
              "      <th>...</th>\n",
              "      <th>Cm</th>\n",
              "      <th>Ch</th>\n",
              "      <th>VV</th>\n",
              "      <th>Td</th>\n",
              "      <th>RRR</th>\n",
              "      <th>tR</th>\n",
              "      <th>E</th>\n",
              "      <th>Tg</th>\n",
              "      <th>E'</th>\n",
              "      <th>sss</th>\n",
              "    </tr>\n",
              "  </thead>\n",
              "  <tbody>\n",
              "    <tr>\n",
              "      <th>0</th>\n",
              "      <td>08.03.2022 23:30</td>\n",
              "      <td>26.0</td>\n",
              "      <td>757.7</td>\n",
              "      <td>758.6</td>\n",
              "      <td>NaN</td>\n",
              "      <td>84.0</td>\n",
              "      <td>Calm, no wind</td>\n",
              "      <td>0.0</td>\n",
              "      <td>NaN</td>\n",
              "      <td>NaN</td>\n",
              "      <td>...</td>\n",
              "      <td>No Altocumulus, Altostratus or Nimbostratus.</td>\n",
              "      <td>Cirrus (often in bands) and Cirrostratus, or C...</td>\n",
              "      <td>10</td>\n",
              "      <td>23.1</td>\n",
              "      <td>No precipitation</td>\n",
              "      <td>3.0</td>\n",
              "      <td>NaN</td>\n",
              "      <td>NaN</td>\n",
              "      <td>NaN</td>\n",
              "      <td>NaN</td>\n",
              "    </tr>\n",
              "    <tr>\n",
              "      <th>1</th>\n",
              "      <td>08.03.2022 08:30</td>\n",
              "      <td>28.6</td>\n",
              "      <td>757.6</td>\n",
              "      <td>758.5</td>\n",
              "      <td>NaN</td>\n",
              "      <td>83.0</td>\n",
              "      <td>Calm, no wind</td>\n",
              "      <td>0.0</td>\n",
              "      <td>NaN</td>\n",
              "      <td>NaN</td>\n",
              "      <td>...</td>\n",
              "      <td>No Altocumulus, Altostratus or Nimbostratus.</td>\n",
              "      <td>Cirrus (often in bands) and Cirrostratus, or C...</td>\n",
              "      <td>10</td>\n",
              "      <td>25.5</td>\n",
              "      <td>No precipitation</td>\n",
              "      <td>3.0</td>\n",
              "      <td>NaN</td>\n",
              "      <td>NaN</td>\n",
              "      <td>NaN</td>\n",
              "      <td>NaN</td>\n",
              "    </tr>\n",
              "    <tr>\n",
              "      <th>2</th>\n",
              "      <td>08.03.2022 02:30</td>\n",
              "      <td>25.4</td>\n",
              "      <td>756.3</td>\n",
              "      <td>757.2</td>\n",
              "      <td>-1.3</td>\n",
              "      <td>93.0</td>\n",
              "      <td>Calm, no wind</td>\n",
              "      <td>0.0</td>\n",
              "      <td>NaN</td>\n",
              "      <td>NaN</td>\n",
              "      <td>...</td>\n",
              "      <td>No Altocumulus, Altostratus or Nimbostratus.</td>\n",
              "      <td>Cirrus (often in bands) and Cirrostratus, or C...</td>\n",
              "      <td>9</td>\n",
              "      <td>24.2</td>\n",
              "      <td>No precipitation</td>\n",
              "      <td>3.0</td>\n",
              "      <td>NaN</td>\n",
              "      <td>NaN</td>\n",
              "      <td>NaN</td>\n",
              "      <td>NaN</td>\n",
              "    </tr>\n",
              "    <tr>\n",
              "      <th>3</th>\n",
              "      <td>07.03.2022 23:30</td>\n",
              "      <td>26.5</td>\n",
              "      <td>757.6</td>\n",
              "      <td>758.5</td>\n",
              "      <td>NaN</td>\n",
              "      <td>89.0</td>\n",
              "      <td>Calm, no wind</td>\n",
              "      <td>0.0</td>\n",
              "      <td>NaN</td>\n",
              "      <td>NaN</td>\n",
              "      <td>...</td>\n",
              "      <td>No Altocumulus, Altostratus or Nimbostratus.</td>\n",
              "      <td>Cirrus (often in bands) and Cirrostratus, or C...</td>\n",
              "      <td>20</td>\n",
              "      <td>24.5</td>\n",
              "      <td>No precipitation</td>\n",
              "      <td>3.0</td>\n",
              "      <td>NaN</td>\n",
              "      <td>NaN</td>\n",
              "      <td>NaN</td>\n",
              "      <td>NaN</td>\n",
              "    </tr>\n",
              "    <tr>\n",
              "      <th>4</th>\n",
              "      <td>07.03.2022 08:30</td>\n",
              "      <td>27.4</td>\n",
              "      <td>757.1</td>\n",
              "      <td>758.0</td>\n",
              "      <td>NaN</td>\n",
              "      <td>80.0</td>\n",
              "      <td>Wind blowing from the north-east</td>\n",
              "      <td>3.0</td>\n",
              "      <td>NaN</td>\n",
              "      <td>NaN</td>\n",
              "      <td>...</td>\n",
              "      <td>No Altocumulus, Altostratus or Nimbostratus.</td>\n",
              "      <td>Cirrus (often in bands) and Cirrostratus, or C...</td>\n",
              "      <td>20</td>\n",
              "      <td>23.6</td>\n",
              "      <td>No precipitation</td>\n",
              "      <td>3.0</td>\n",
              "      <td>NaN</td>\n",
              "      <td>NaN</td>\n",
              "      <td>NaN</td>\n",
              "      <td>NaN</td>\n",
              "    </tr>\n",
              "    <tr>\n",
              "      <th>...</th>\n",
              "      <td>...</td>\n",
              "      <td>...</td>\n",
              "      <td>...</td>\n",
              "      <td>...</td>\n",
              "      <td>...</td>\n",
              "      <td>...</td>\n",
              "      <td>...</td>\n",
              "      <td>...</td>\n",
              "      <td>...</td>\n",
              "      <td>...</td>\n",
              "      <td>...</td>\n",
              "      <td>...</td>\n",
              "      <td>...</td>\n",
              "      <td>...</td>\n",
              "      <td>...</td>\n",
              "      <td>...</td>\n",
              "      <td>...</td>\n",
              "      <td>...</td>\n",
              "      <td>...</td>\n",
              "      <td>...</td>\n",
              "      <td>...</td>\n",
              "    </tr>\n",
              "    <tr>\n",
              "      <th>17003</th>\n",
              "      <td>07.01.2015 02:30</td>\n",
              "      <td>24.0</td>\n",
              "      <td>757.5</td>\n",
              "      <td>758.2</td>\n",
              "      <td>NaN</td>\n",
              "      <td>91.0</td>\n",
              "      <td>Wind blowing from the north-east</td>\n",
              "      <td>4.0</td>\n",
              "      <td>NaN</td>\n",
              "      <td>NaN</td>\n",
              "      <td>...</td>\n",
              "      <td>Altocumulus translucidus at a single level.</td>\n",
              "      <td>Cirrus fibratus, sometimes uncinus, not progre...</td>\n",
              "      <td>16</td>\n",
              "      <td>22.5</td>\n",
              "      <td>No precipitation</td>\n",
              "      <td>3.0</td>\n",
              "      <td>NaN</td>\n",
              "      <td>NaN</td>\n",
              "      <td>NaN</td>\n",
              "      <td>NaN</td>\n",
              "    </tr>\n",
              "    <tr>\n",
              "      <th>17004</th>\n",
              "      <td>04.01.2015 02:30</td>\n",
              "      <td>23.5</td>\n",
              "      <td>758.0</td>\n",
              "      <td>758.7</td>\n",
              "      <td>NaN</td>\n",
              "      <td>94.0</td>\n",
              "      <td>Calm, no wind</td>\n",
              "      <td>0.0</td>\n",
              "      <td>NaN</td>\n",
              "      <td>NaN</td>\n",
              "      <td>...</td>\n",
              "      <td>No Altocumulus, Altostratus or Nimbostratus.</td>\n",
              "      <td>Cirrus fibratus, sometimes uncinus, not progre...</td>\n",
              "      <td>8</td>\n",
              "      <td>22.5</td>\n",
              "      <td>No precipitation</td>\n",
              "      <td>3.0</td>\n",
              "      <td>NaN</td>\n",
              "      <td>NaN</td>\n",
              "      <td>NaN</td>\n",
              "      <td>NaN</td>\n",
              "    </tr>\n",
              "    <tr>\n",
              "      <th>17005</th>\n",
              "      <td>03.01.2015 02:30</td>\n",
              "      <td>22.0</td>\n",
              "      <td>758.0</td>\n",
              "      <td>758.7</td>\n",
              "      <td>NaN</td>\n",
              "      <td>97.0</td>\n",
              "      <td>Calm, no wind</td>\n",
              "      <td>0.0</td>\n",
              "      <td>NaN</td>\n",
              "      <td>NaN</td>\n",
              "      <td>...</td>\n",
              "      <td>No Altocumulus, Altostratus or Nimbostratus.</td>\n",
              "      <td>Cirrus fibratus, sometimes uncinus, not progre...</td>\n",
              "      <td>8</td>\n",
              "      <td>21.5</td>\n",
              "      <td>No precipitation</td>\n",
              "      <td>3.0</td>\n",
              "      <td>NaN</td>\n",
              "      <td>NaN</td>\n",
              "      <td>NaN</td>\n",
              "      <td>NaN</td>\n",
              "    </tr>\n",
              "    <tr>\n",
              "      <th>17006</th>\n",
              "      <td>02.01.2015 02:30</td>\n",
              "      <td>23.1</td>\n",
              "      <td>757.0</td>\n",
              "      <td>757.7</td>\n",
              "      <td>NaN</td>\n",
              "      <td>98.0</td>\n",
              "      <td>Wind blowing from the south-east</td>\n",
              "      <td>2.0</td>\n",
              "      <td>NaN</td>\n",
              "      <td>NaN</td>\n",
              "      <td>...</td>\n",
              "      <td>No Altocumulus, Altostratus or Nimbostratus.</td>\n",
              "      <td>Cirrus fibratus, sometimes uncinus, not progre...</td>\n",
              "      <td>7</td>\n",
              "      <td>22.7</td>\n",
              "      <td>No precipitation</td>\n",
              "      <td>3.0</td>\n",
              "      <td>NaN</td>\n",
              "      <td>NaN</td>\n",
              "      <td>NaN</td>\n",
              "      <td>NaN</td>\n",
              "    </tr>\n",
              "    <tr>\n",
              "      <th>17007</th>\n",
              "      <td>01.01.2015 02:30</td>\n",
              "      <td>25.2</td>\n",
              "      <td>755.6</td>\n",
              "      <td>756.3</td>\n",
              "      <td>NaN</td>\n",
              "      <td>97.0</td>\n",
              "      <td>Wind blowing from the south-east</td>\n",
              "      <td>2.0</td>\n",
              "      <td>NaN</td>\n",
              "      <td>NaN</td>\n",
              "      <td>...</td>\n",
              "      <td>No Altocumulus, Altostratus or Nimbostratus.</td>\n",
              "      <td>Cirrus fibratus, sometimes uncinus, not progre...</td>\n",
              "      <td>5</td>\n",
              "      <td>24.7</td>\n",
              "      <td>No precipitation</td>\n",
              "      <td>3.0</td>\n",
              "      <td>NaN</td>\n",
              "      <td>NaN</td>\n",
              "      <td>NaN</td>\n",
              "      <td>NaN</td>\n",
              "    </tr>\n",
              "  </tbody>\n",
              "</table>\n",
              "<p>17008 rows × 29 columns</p>\n",
              "</div>\n",
              "      <button class=\"colab-df-convert\" onclick=\"convertToInteractive('df-5b7ed77c-3031-446a-b07a-1feb9acc1622')\"\n",
              "              title=\"Convert this dataframe to an interactive table.\"\n",
              "              style=\"display:none;\">\n",
              "        \n",
              "  <svg xmlns=\"http://www.w3.org/2000/svg\" height=\"24px\"viewBox=\"0 0 24 24\"\n",
              "       width=\"24px\">\n",
              "    <path d=\"M0 0h24v24H0V0z\" fill=\"none\"/>\n",
              "    <path d=\"M18.56 5.44l.94 2.06.94-2.06 2.06-.94-2.06-.94-.94-2.06-.94 2.06-2.06.94zm-11 1L8.5 8.5l.94-2.06 2.06-.94-2.06-.94L8.5 2.5l-.94 2.06-2.06.94zm10 10l.94 2.06.94-2.06 2.06-.94-2.06-.94-.94-2.06-.94 2.06-2.06.94z\"/><path d=\"M17.41 7.96l-1.37-1.37c-.4-.4-.92-.59-1.43-.59-.52 0-1.04.2-1.43.59L10.3 9.45l-7.72 7.72c-.78.78-.78 2.05 0 2.83L4 21.41c.39.39.9.59 1.41.59.51 0 1.02-.2 1.41-.59l7.78-7.78 2.81-2.81c.8-.78.8-2.07 0-2.86zM5.41 20L4 18.59l7.72-7.72 1.47 1.35L5.41 20z\"/>\n",
              "  </svg>\n",
              "      </button>\n",
              "      \n",
              "  <style>\n",
              "    .colab-df-container {\n",
              "      display:flex;\n",
              "      flex-wrap:wrap;\n",
              "      gap: 12px;\n",
              "    }\n",
              "\n",
              "    .colab-df-convert {\n",
              "      background-color: #E8F0FE;\n",
              "      border: none;\n",
              "      border-radius: 50%;\n",
              "      cursor: pointer;\n",
              "      display: none;\n",
              "      fill: #1967D2;\n",
              "      height: 32px;\n",
              "      padding: 0 0 0 0;\n",
              "      width: 32px;\n",
              "    }\n",
              "\n",
              "    .colab-df-convert:hover {\n",
              "      background-color: #E2EBFA;\n",
              "      box-shadow: 0px 1px 2px rgba(60, 64, 67, 0.3), 0px 1px 3px 1px rgba(60, 64, 67, 0.15);\n",
              "      fill: #174EA6;\n",
              "    }\n",
              "\n",
              "    [theme=dark] .colab-df-convert {\n",
              "      background-color: #3B4455;\n",
              "      fill: #D2E3FC;\n",
              "    }\n",
              "\n",
              "    [theme=dark] .colab-df-convert:hover {\n",
              "      background-color: #434B5C;\n",
              "      box-shadow: 0px 1px 3px 1px rgba(0, 0, 0, 0.15);\n",
              "      filter: drop-shadow(0px 1px 2px rgba(0, 0, 0, 0.3));\n",
              "      fill: #FFFFFF;\n",
              "    }\n",
              "  </style>\n",
              "\n",
              "      <script>\n",
              "        const buttonEl =\n",
              "          document.querySelector('#df-5b7ed77c-3031-446a-b07a-1feb9acc1622 button.colab-df-convert');\n",
              "        buttonEl.style.display =\n",
              "          google.colab.kernel.accessAllowed ? 'block' : 'none';\n",
              "\n",
              "        async function convertToInteractive(key) {\n",
              "          const element = document.querySelector('#df-5b7ed77c-3031-446a-b07a-1feb9acc1622');\n",
              "          const dataTable =\n",
              "            await google.colab.kernel.invokeFunction('convertToInteractive',\n",
              "                                                     [key], {});\n",
              "          if (!dataTable) return;\n",
              "\n",
              "          const docLinkHtml = 'Like what you see? Visit the ' +\n",
              "            '<a target=\"_blank\" href=https://colab.research.google.com/notebooks/data_table.ipynb>data table notebook</a>'\n",
              "            + ' to learn more about interactive tables.';\n",
              "          element.innerHTML = '';\n",
              "          dataTable['output_type'] = 'display_data';\n",
              "          await google.colab.output.renderOutput(dataTable, element);\n",
              "          const docLink = document.createElement('div');\n",
              "          docLink.innerHTML = docLinkHtml;\n",
              "          element.appendChild(docLink);\n",
              "        }\n",
              "      </script>\n",
              "    </div>\n",
              "  </div>\n",
              "  "
            ]
          },
          "metadata": {},
          "execution_count": 10
        }
      ],
      "source": [
        "df = pd.read_excel('/content/gdrive/MyDrive/43450.01.01.2015.08.03.2022.1.0.0.en.utf8.00000000.xlsx', skiprows=[0,1,2,3,4,5])\n",
        "df"
      ]
    },
    {
      "cell_type": "code",
      "execution_count": null,
      "metadata": {
        "id": "BKPm4dX-mtWP",
        "colab": {
          "base_uri": "https://localhost:8080/",
          "height": 778
        },
        "outputId": "af7475d0-4c0b-4254-9a4c-0a8f3c98f5cf"
      },
      "outputs": [
        {
          "output_type": "execute_result",
          "data": {
            "text/plain": [
              "<matplotlib.axes._subplots.AxesSubplot at 0x7ff0bea69110>"
            ]
          },
          "metadata": {},
          "execution_count": 11
        },
        {
          "output_type": "display_data",
          "data": {
            "text/plain": [
              "<Figure size 1800x720 with 3 Axes>"
            ],
            "image/png": "[encoded data removed]"
          },
          "metadata": {
            "needs_background": "light"
          }
        }
      ],
      "source": [
        "#Null values vizualising\n",
        "import missingno as masno\n",
        "masno.bar(df) "
      ]
    },
    {
      "cell_type": "code",
      "source": [
        "#Matrix chart \n",
        "masno.matrix(df) #White represent null values & black represent not null value"
      ],
      "metadata": {
        "colab": {
          "base_uri": "https://localhost:8080/",
          "height": 856
        },
        "id": "jkFQHbH3sJAf",
        "outputId": "e7cc377c-9179-467b-cfcd-867ca6ca6cb2"
      },
      "execution_count": null,
      "outputs": [
        {
          "output_type": "execute_result",
          "data": {
            "text/plain": [
              "<matplotlib.axes._subplots.AxesSubplot at 0x7ff0bdb42a10>"
            ]
          },
          "metadata": {},
          "execution_count": 12
        },
        {
          "output_type": "display_data",
          "data": {
            "text/plain": [
              "<Figure size 1800x720 with 2 Axes>"
            ],
            "image/png": "[encoded data removed]"
          },
          "metadata": {
            "needs_background": "light"
          }
        }
      ]
    },
    {
      "cell_type": "code",
      "source": [
        "#Heat map\n",
        "masno.heatmap(df)"
      ],
      "metadata": {
        "colab": {
          "base_uri": "https://localhost:8080/",
          "height": 746
        },
        "id": "AyU0lpastRe1",
        "outputId": "4861e8e9-c48e-4576-9354-8c915dda9300"
      },
      "execution_count": null,
      "outputs": [
        {
          "output_type": "execute_result",
          "data": {
            "text/plain": [
              "<matplotlib.axes._subplots.AxesSubplot at 0x7ff0bdcacad0>"
            ]
          },
          "metadata": {},
          "execution_count": 13
        },
        {
          "output_type": "display_data",
          "data": {
            "text/plain": [
              "<Figure size 1440x864 with 2 Axes>"
            ],
            "image/png": "[encoded data removed]"
          },
          "metadata": {
            "needs_background": "light"
          }
        }
      ]
    },
    {
      "cell_type": "code",
      "source": [
        "#Dendrogam\n",
        "masno.dendrogram(df)"
      ],
      "metadata": {
        "colab": {
          "base_uri": "https://localhost:8080/",
          "height": 867
        },
        "id": "-J_cb0v_tzpd",
        "outputId": "99312ca1-9dfb-4567-ac18-6c44b33ff527"
      },
      "execution_count": null,
      "outputs": [
        {
          "output_type": "execute_result",
          "data": {
            "text/plain": [
              "<matplotlib.axes._subplots.AxesSubplot at 0x7ff0be36b050>"
            ]
          },
          "metadata": {},
          "execution_count": 14
        },
        {
          "output_type": "display_data",
          "data": {
            "text/plain": [
              "<Figure size 1800x720 with 1 Axes>"
            ],
            "image/png": "[encoded data removed]"
          },
          "metadata": {
            "needs_background": "light"
          }
        }
      ]
    },
    {
      "cell_type": "code",
      "source": [
        "#Columns\n",
        "df.columns"
      ],
      "metadata": {
        "colab": {
          "base_uri": "https://localhost:8080/"
        },
        "id": "K5JOJrkM-E0k",
        "outputId": "37ad55e9-af68-46a0-e6b5-ad49198e0f99"
      },
      "execution_count": null,
      "outputs": [
        {
          "output_type": "execute_result",
          "data": {
            "text/plain": [
              "Index(['Local time in Katunayake / Bandaranaike (airport)', 'T', 'Po', 'P',\n",
              "       'Pa', 'U', 'DD', 'Ff', 'ff10', 'ff3', 'N', 'WW', 'W1', 'W2', 'Tn', 'Tx',\n",
              "       'Cl', 'Nh', 'H', 'Cm', 'Ch', 'VV', 'Td', 'RRR', 'tR', 'E', 'Tg', 'E'',\n",
              "       'sss'],\n",
              "      dtype='object')"
            ]
          },
          "metadata": {},
          "execution_count": 15
        }
      ]
    },
    {
      "cell_type": "code",
      "source": [
        "df.info()"
      ],
      "metadata": {
        "colab": {
          "base_uri": "https://localhost:8080/"
        },
        "id": "Ka8XFHlO-vMY",
        "outputId": "b6c5d95b-5cf5-4bf0-d1b9-ecda2ee06ddf"
      },
      "execution_count": null,
      "outputs": [
        {
          "output_type": "stream",
          "name": "stdout",
          "text": [
            "<class 'pandas.core.frame.DataFrame'>\n",
            "RangeIndex: 17008 entries, 0 to 17007\n",
            "Data columns (total 29 columns):\n",
            " #   Column                                             Non-Null Count  Dtype  \n",
            "---  ------                                             --------------  -----  \n",
            " 0   Local time in Katunayake / Bandaranaike (airport)  17008 non-null  object \n",
            " 1   T                                                  17003 non-null  float64\n",
            " 2   Po                                                 16999 non-null  float64\n",
            " 3   P                                                  16998 non-null  float64\n",
            " 4   Pa                                                 14977 non-null  float64\n",
            " 5   U                                                  16983 non-null  float64\n",
            " 6   DD                                                 16992 non-null  object \n",
            " 7   Ff                                                 16998 non-null  float64\n",
            " 8   ff10                                               0 non-null      float64\n",
            " 9   ff3                                                0 non-null      float64\n",
            " 10  N                                                  17006 non-null  object \n",
            " 11  WW                                                 17008 non-null  object \n",
            " 12  W1                                                 4672 non-null   object \n",
            " 13  W2                                                 4668 non-null   object \n",
            " 14  Tn                                                 2120 non-null   float64\n",
            " 15  Tx                                                 2014 non-null   float64\n",
            " 16  Cl                                                 15801 non-null  object \n",
            " 17  Nh                                                 15801 non-null  object \n",
            " 18  H                                                  15811 non-null  object \n",
            " 19  Cm                                                 14749 non-null  object \n",
            " 20  Ch                                                 11904 non-null  object \n",
            " 21  VV                                                 16988 non-null  object \n",
            " 22  Td                                                 16988 non-null  float64\n",
            " 23  RRR                                                16946 non-null  object \n",
            " 24  tR                                                 16946 non-null  float64\n",
            " 25  E                                                  0 non-null      float64\n",
            " 26  Tg                                                 0 non-null      float64\n",
            " 27  E'                                                 2 non-null      object \n",
            " 28  sss                                                2 non-null      float64\n",
            "dtypes: float64(15), object(14)\n",
            "memory usage: 3.8+ MB\n"
          ]
        }
      ]
    },
    {
      "cell_type": "code",
      "source": [
        "#Remove columns which have null values > 20%\n",
        "col_num=0                                        \n",
        "TotalObjects = df.shape[0] \n",
        "print (\"Column\\t\\t\\t\\t\\t Null Values%\") \n",
        "for x in df: \n",
        "    nullCount = df[x].isnull().sum(); \n",
        "    nullPercent = nullCount*100 / (TotalObjects)\n",
        "    if nullCount > 0 and nullPercent > 20 : \n",
        "        col_num=col_num+1 \n",
        "        df.drop(x, axis=1,inplace=True) \n",
        "        print(str(x)+\"\\t\\t\\t\\t\\t \"+str(nullPercent))\n",
        "print (\"A total of \"+str(col_num)+\" deleted !\")"
      ],
      "metadata": {
        "colab": {
          "base_uri": "https://localhost:8080/"
        },
        "id": "pkzcBRew_HJ8",
        "outputId": "fd53efac-1cf4-439d-8797-29f24049b1eb"
      },
      "execution_count": null,
      "outputs": [
        {
          "output_type": "stream",
          "name": "stdout",
          "text": [
            "Column\t\t\t\t\t Null Values%\n",
            "ff10\t\t\t\t\t 100.0\n",
            "ff3\t\t\t\t\t 100.0\n",
            "W1\t\t\t\t\t 72.53057384760113\n",
            "W2\t\t\t\t\t 72.55409219190969\n",
            "Tn\t\t\t\t\t 87.53527751646284\n",
            "Tx\t\t\t\t\t 88.1585136406397\n",
            "Ch\t\t\t\t\t 30.009407337723424\n",
            "E\t\t\t\t\t 100.0\n",
            "Tg\t\t\t\t\t 100.0\n",
            "E'\t\t\t\t\t 99.98824082784571\n",
            "sss\t\t\t\t\t 99.98824082784571\n",
            "A total of 11 deleted !\n"
          ]
        }
      ]
    },
    {
      "cell_type": "code",
      "source": [
        "df.isnull().sum()\n",
        "#Matrix chart \n",
        "masno.matrix(df) #White represent null values & black represent not null value"
      ],
      "metadata": {
        "colab": {
          "base_uri": "https://localhost:8080/",
          "height": 856
        },
        "id": "KZXjQYqY_Vby",
        "outputId": "70e00d55-657e-4ea5-b517-460b6b53b1f1"
      },
      "execution_count": null,
      "outputs": [
        {
          "output_type": "execute_result",
          "data": {
            "text/plain": [
              "<matplotlib.axes._subplots.AxesSubplot at 0x7ff0be13b110>"
            ]
          },
          "metadata": {},
          "execution_count": 18
        },
        {
          "output_type": "display_data",
          "data": {
            "text/plain": [
              "<Figure size 1800x720 with 2 Axes>"
            ],
            "image/png": "[encoded data removed]"
          },
          "metadata": {
            "needs_background": "light"
          }
        }
      ]
    },
    {
      "cell_type": "code",
      "source": [
        "#Replace with mean\n",
        "df['T'].fillna(df['T'].mean(),inplace = True) \n",
        "df['Po'].fillna(df['Po'].mean(),inplace = True)\n",
        "df['P'].fillna(df['P'].mean(),inplace = True)\n",
        "df['Pa'].fillna(df['Pa'].mean(),inplace = True)\n",
        "df['U'].fillna(df['U'].mean(),inplace = True)\n",
        "df['Ff'].fillna(df['Ff'].mean(),inplace = True)\n",
        "df['Td'].fillna(df['Td'].mean(),inplace = True)\n",
        "df['tR'].fillna(df['tR'].mean(),inplace = True)"
      ],
      "metadata": {
        "id": "DmnbAZiw_peS"
      },
      "execution_count": null,
      "outputs": []
    },
    {
      "cell_type": "code",
      "source": [
        "df['DD'].fillna('Unknown',inplace=True) \n",
        "df['Cl'].fillna('Unknown',inplace=True) \n",
        "df['WW'].fillna('Unknown',inplace=True) \n",
        "df['Nh'].fillna('Unknown',inplace=True) \n",
        "df['H'].fillna('Unknown',inplace=True) \n",
        "df['Cm'].fillna('Unknown',inplace=True) \n",
        "df['VV'].fillna('Unknown',inplace=True) \n",
        "df['RRR'].fillna('Unknown',inplace=True) \n",
        "df['N'].fillna('Unknown',inplace=True)"
      ],
      "metadata": {
        "id": "AVvh-MIkE4xP"
      },
      "execution_count": null,
      "outputs": []
    },
    {
      "cell_type": "code",
      "source": [
        "df.isnull().sum()"
      ],
      "metadata": {
        "colab": {
          "base_uri": "https://localhost:8080/"
        },
        "id": "ttpT7tJXFBvZ",
        "outputId": "290724dc-da92-4893-cf48-6a4b8312a951"
      },
      "execution_count": null,
      "outputs": [
        {
          "output_type": "execute_result",
          "data": {
            "text/plain": [
              "Local time in Katunayake / Bandaranaike (airport)    0\n",
              "T                                                    0\n",
              "Po                                                   0\n",
              "P                                                    0\n",
              "Pa                                                   0\n",
              "U                                                    0\n",
              "DD                                                   0\n",
              "Ff                                                   0\n",
              "N                                                    0\n",
              "WW                                                   0\n",
              "Cl                                                   0\n",
              "Nh                                                   0\n",
              "H                                                    0\n",
              "Cm                                                   0\n",
              "VV                                                   0\n",
              "Td                                                   0\n",
              "RRR                                                  0\n",
              "tR                                                   0\n",
              "dtype: int64"
            ]
          },
          "metadata": {},
          "execution_count": 21
        }
      ]
    },
    {
      "cell_type": "code",
      "source": [
        "#df.rename(columns = {'Local time in Katunayake / Bandaranaike (airport)':'dateTime'}, inplace = True)\n"
      ],
      "metadata": {
        "id": "CKVolwdIKseK"
      },
      "execution_count": null,
      "outputs": []
    },
    {
      "cell_type": "code",
      "source": [
        "#Columns\n",
        "#df.columns"
      ],
      "metadata": {
        "id": "0KEhzfruK-5o"
      },
      "execution_count": null,
      "outputs": []
    },
    {
      "cell_type": "code",
      "source": [
        "#Convert time datatype as datetime64 dtype\n",
        "df['Local time in Katunayake / Bandaranaike (airport)'] = pd.to_datetime(df['Local time in Katunayake / Bandaranaike (airport)'], format = '%d-%m-%YT%H:%M', errors = 'coerce')\n",
        "\n",
        "df.info()"
      ],
      "metadata": {
        "id": "LcabkAdwFFyw",
        "colab": {
          "base_uri": "https://localhost:8080/"
        },
        "outputId": "85f41019-b584-40ec-e629-c7d89650f476"
      },
      "execution_count": null,
      "outputs": [
        {
          "output_type": "stream",
          "name": "stdout",
          "text": [
            "<class 'pandas.core.frame.DataFrame'>\n",
            "RangeIndex: 17008 entries, 0 to 17007\n",
            "Data columns (total 18 columns):\n",
            " #   Column                                             Non-Null Count  Dtype         \n",
            "---  ------                                             --------------  -----         \n",
            " 0   Local time in Katunayake / Bandaranaike (airport)  0 non-null      datetime64[ns]\n",
            " 1   T                                                  17008 non-null  int64         \n",
            " 2   Po                                                 17008 non-null  float64       \n",
            " 3   P                                                  17008 non-null  float64       \n",
            " 4   Pa                                                 17008 non-null  float64       \n",
            " 5   U                                                  17008 non-null  float64       \n",
            " 6   DD                                                 17008 non-null  object        \n",
            " 7   Ff                                                 17008 non-null  float64       \n",
            " 8   N                                                  17008 non-null  object        \n",
            " 9   WW                                                 17008 non-null  object        \n",
            " 10  Cl                                                 17008 non-null  object        \n",
            " 11  Nh                                                 17008 non-null  object        \n",
            " 12  H                                                  17008 non-null  object        \n",
            " 13  Cm                                                 17008 non-null  object        \n",
            " 14  VV                                                 17008 non-null  object        \n",
            " 15  Td                                                 17008 non-null  float64       \n",
            " 16  RRR                                                17008 non-null  object        \n",
            " 17  tR                                                 17008 non-null  float64       \n",
            "dtypes: datetime64[ns](1), float64(7), int64(1), object(9)\n",
            "memory usage: 2.3+ MB\n"
          ]
        }
      ]
    },
    {
      "cell_type": "code",
      "source": [
        "#Separate fetures and label \n",
        "features = ['Local time in Katunayake / Bandaranaike (airport)']\n",
        "check_rows = features[:]\n",
        "check_rows.append('T')"
      ],
      "metadata": {
        "id": "3jx4q9d6Ff2U"
      },
      "execution_count": null,
      "outputs": []
    },
    {
      "cell_type": "code",
      "source": [
        "#Convert T as a int64 or string\n",
        "df['T'] = df['T'].astype('int64')\n",
        "#df['T'] = df['T'].apply(str)"
      ],
      "metadata": {
        "id": "03bIsf9AFvYS"
      },
      "execution_count": null,
      "outputs": []
    },
    {
      "cell_type": "code",
      "source": [
        "df.head(20)"
      ],
      "metadata": {
        "colab": {
          "base_uri": "https://localhost:8080/",
          "height": 1000
        },
        "id": "nsCMTBU4IoQD",
        "outputId": "1d2398db-dad8-4c88-b0c6-d3c34efef8b3"
      },
      "execution_count": null,
      "outputs": [
        {
          "output_type": "execute_result",
          "data": {
            "text/plain": [
              "   Local time in Katunayake / Bandaranaike (airport)   T     Po      P  \\\n",
              "0                                                NaT  26  757.7  758.6   \n",
              "1                                                NaT  28  757.6  758.5   \n",
              "2                                                NaT  25  756.3  757.2   \n",
              "3                                                NaT  26  757.6  758.5   \n",
              "4                                                NaT  27  757.1  758.0   \n",
              "5                                                NaT  25  756.4  757.4   \n",
              "6                                                NaT  26  757.8  758.7   \n",
              "7                                                NaT  27  757.3  758.2   \n",
              "8                                                NaT  26  757.0  757.9   \n",
              "9                                                NaT  29  754.7  755.6   \n",
              "10                                               NaT  32  757.3  758.2   \n",
              "11                                               NaT  27  758.1  758.9   \n",
              "12                                               NaT  23  756.5  757.4   \n",
              "13                                               NaT  26  757.8  758.7   \n",
              "14                                               NaT  31  757.6  758.5   \n",
              "15                                               NaT  27  757.9  758.8   \n",
              "16                                               NaT  24  756.4  757.3   \n",
              "17                                               NaT  26  757.6  758.5   \n",
              "18                                               NaT  31  754.7  755.5   \n",
              "19                                               NaT  33  754.7  755.6   \n",
              "\n",
              "          Pa     U                                     DD   Ff  \\\n",
              "0   0.002444  84.0                          Calm, no wind  0.0   \n",
              "1   0.002444  83.0                          Calm, no wind  0.0   \n",
              "2  -1.300000  93.0                          Calm, no wind  0.0   \n",
              "3   0.002444  89.0                          Calm, no wind  0.0   \n",
              "4   0.002444  80.0       Wind blowing from the north-east  3.0   \n",
              "5  -1.400000  90.0       Wind blowing from the north-east  1.0   \n",
              "6   0.002444  84.0       Wind blowing from the north-east  3.0   \n",
              "7   0.002444  77.0       Wind blowing from the north-east  3.0   \n",
              "8   0.002444  79.0       Wind blowing from the north-east  3.0   \n",
              "9   0.002444  74.0       Wind blowing from the north-west  6.0   \n",
              "10 -0.800000  55.0  Wind blowing from the north-northeast  4.0   \n",
              "11  1.600000  80.0       Wind blowing from the north-east  4.0   \n",
              "12  0.002444  94.0                          Calm, no wind  0.0   \n",
              "13  0.002444  83.0       Wind blowing from the north-east  2.0   \n",
              "14 -0.300000  58.0       Wind blowing from the north-east  4.0   \n",
              "15  1.500000  80.0            Wind blowing from the north  1.0   \n",
              "16  0.002444  90.0                          Calm, no wind  0.0   \n",
              "17  0.002444  76.0       Wind blowing from the north-east  2.0   \n",
              "18  0.000000  53.0       Wind blowing from the north-east  5.0   \n",
              "19  0.002444  50.0       Wind blowing from the north-east  4.0   \n",
              "\n",
              "                            N WW  \\\n",
              "0                        60%.      \n",
              "1                        40%.      \n",
              "2                        50%.      \n",
              "3                        40%.      \n",
              "4                   70 – 80%.      \n",
              "5     10%  or less, but not 0      \n",
              "6                        40%.      \n",
              "7                        50%.      \n",
              "8                   no clouds      \n",
              "9                        60%.      \n",
              "10                       50%.      \n",
              "11                       40%.      \n",
              "12                  no clouds      \n",
              "13    10%  or less, but not 0      \n",
              "14                  70 – 80%.      \n",
              "15                       50%.      \n",
              "16                       50%.      \n",
              "17                       60%.      \n",
              "18  90  or more, but not 100%      \n",
              "19                  70 – 80%.      \n",
              "\n",
              "                                                   Cl  \\\n",
              "0   No Stratocumulus, Stratus, Cumulus or Cumuloni...   \n",
              "1   Cumulus humilis or Cumulus fractus other than ...   \n",
              "2   No Stratocumulus, Stratus, Cumulus or Cumuloni...   \n",
              "3   Cumulus humilis or Cumulus fractus other than ...   \n",
              "4   Cumulus humilis or Cumulus fractus other than ...   \n",
              "5   No Stratocumulus, Stratus, Cumulus or Cumuloni...   \n",
              "6   No Stratocumulus, Stratus, Cumulus or Cumuloni...   \n",
              "7   No Stratocumulus, Stratus, Cumulus or Cumuloni...   \n",
              "8                                             Unknown   \n",
              "9   Cumulus mediocris or congestus, with or withou...   \n",
              "10  Cumulus humilis or Cumulus fractus other than ...   \n",
              "11  No Stratocumulus, Stratus, Cumulus or Cumuloni...   \n",
              "12                                            Unknown   \n",
              "13  No Stratocumulus, Stratus, Cumulus or Cumuloni...   \n",
              "14  Cumulus humilis or Cumulus fractus other than ...   \n",
              "15  No Stratocumulus, Stratus, Cumulus or Cumuloni...   \n",
              "16  No Stratocumulus, Stratus, Cumulus or Cumuloni...   \n",
              "17  Cumulus humilis or Cumulus fractus other than ...   \n",
              "18  Cumulus humilis or Cumulus fractus other than ...   \n",
              "19  Cumulus humilis or Cumulus fractus other than ...   \n",
              "\n",
              "                         Nh                            H  \\\n",
              "0                 no clouds  2500 or more, or no clouds.   \n",
              "1   10%  or less, but not 0                      300-600   \n",
              "2                 no clouds  2500 or more, or no clouds.   \n",
              "3                   20–30%.                      300-600   \n",
              "4   10%  or less, but not 0                      300-600   \n",
              "5                 no clouds  2500 or more, or no clouds.   \n",
              "6                 no clouds  2500 or more, or no clouds.   \n",
              "7                      40%.  2500 or more, or no clouds.   \n",
              "8                   Unknown                      Unknown   \n",
              "9                   20–30%.                      300-600   \n",
              "10                     40%.                      300-600   \n",
              "11                no clouds  2500 or more, or no clouds.   \n",
              "12                  Unknown                      Unknown   \n",
              "13                no clouds  2500 or more, or no clouds.   \n",
              "14                     50%.                      300-600   \n",
              "15                no clouds  2500 or more, or no clouds.   \n",
              "16                no clouds  2500 or more, or no clouds.   \n",
              "17                  20–30%.                      300-600   \n",
              "18                  20–30%.                      300-600   \n",
              "19                  20–30%.                      300-600   \n",
              "\n",
              "                                                   Cm  VV    Td  \\\n",
              "0        No Altocumulus, Altostratus or Nimbostratus.  10  23.1   \n",
              "1        No Altocumulus, Altostratus or Nimbostratus.  10  25.5   \n",
              "2        No Altocumulus, Altostratus or Nimbostratus.   9  24.2   \n",
              "3        No Altocumulus, Altostratus or Nimbostratus.  20  24.5   \n",
              "4        No Altocumulus, Altostratus or Nimbostratus.  20  23.6   \n",
              "5        No Altocumulus, Altostratus or Nimbostratus.  10  23.4   \n",
              "6        No Altocumulus, Altostratus or Nimbostratus.  10  23.5   \n",
              "7   Altocumulus translucidus or opacus in two or m...  20  22.6   \n",
              "8                                             Unknown  10  22.3   \n",
              "9        No Altocumulus, Altostratus or Nimbostratus.   9  24.2   \n",
              "10       No Altocumulus, Altostratus or Nimbostratus.  20  22.0   \n",
              "11       No Altocumulus, Altostratus or Nimbostratus.  20  23.7   \n",
              "12                                            Unknown  10  22.7   \n",
              "13       No Altocumulus, Altostratus or Nimbostratus.  20  22.8   \n",
              "14       No Altocumulus, Altostratus or Nimbostratus.  15  22.6   \n",
              "15       No Altocumulus, Altostratus or Nimbostratus.  10  23.5   \n",
              "16       No Altocumulus, Altostratus or Nimbostratus.   9  22.5   \n",
              "17        Altocumulus translucidus at a single level.  20  22.1   \n",
              "18  Altocumulus cumulogenitus (or cumulonimbogenit...  15  20.4   \n",
              "19                Altostratus opacus or Nimbostratus.  15  21.2   \n",
              "\n",
              "                 RRR   tR  \n",
              "0   No precipitation  3.0  \n",
              "1   No precipitation  3.0  \n",
              "2   No precipitation  3.0  \n",
              "3   No precipitation  3.0  \n",
              "4   No precipitation  3.0  \n",
              "5   No precipitation  3.0  \n",
              "6   No precipitation  3.0  \n",
              "7   No precipitation  3.0  \n",
              "8   No precipitation  3.0  \n",
              "9   No precipitation  3.0  \n",
              "10  No precipitation  3.0  \n",
              "11  No precipitation  3.0  \n",
              "12  No precipitation  3.0  \n",
              "13  No precipitation  3.0  \n",
              "14  No precipitation  3.0  \n",
              "15  No precipitation  3.0  \n",
              "16  No precipitation  3.0  \n",
              "17  No precipitation  3.0  \n",
              "18  No precipitation  3.0  \n",
              "19  No precipitation  3.0  "
            ],
            "text/html": [
              "\n",
              "  <div id=\"df-ac222cb8-3d15-4271-9b49-8ae4660e7543\">\n",
              "    <div class=\"colab-df-container\">\n",
              "      <div>\n",
              "<style scoped>\n",
              "    .dataframe tbody tr th:only-of-type {\n",
              "        vertical-align: middle;\n",
              "    }\n",
              "\n",
              "    .dataframe tbody tr th {\n",
              "        vertical-align: top;\n",
              "    }\n",
              "\n",
              "    .dataframe thead th {\n",
              "        text-align: right;\n",
              "    }\n",
              "</style>\n",
              "<table border=\"1\" class=\"dataframe\">\n",
              "  <thead>\n",
              "    <tr style=\"text-align: right;\">\n",
              "      <th></th>\n",
              "      <th>Local time in Katunayake / Bandaranaike (airport)</th>\n",
              "      <th>T</th>\n",
              "      <th>Po</th>\n",
              "      <th>P</th>\n",
              "      <th>Pa</th>\n",
              "      <th>U</th>\n",
              "      <th>DD</th>\n",
              "      <th>Ff</th>\n",
              "      <th>N</th>\n",
              "      <th>WW</th>\n",
              "      <th>Cl</th>\n",
              "      <th>Nh</th>\n",
              "      <th>H</th>\n",
              "      <th>Cm</th>\n",
              "      <th>VV</th>\n",
              "      <th>Td</th>\n",
              "      <th>RRR</th>\n",
              "      <th>tR</th>\n",
              "    </tr>\n",
              "  </thead>\n",
              "  <tbody>\n",
              "    <tr>\n",
              "      <th>0</th>\n",
              "      <td>NaT</td>\n",
              "      <td>26</td>\n",
              "      <td>757.7</td>\n",
              "      <td>758.6</td>\n",
              "      <td>0.002444</td>\n",
              "      <td>84.0</td>\n",
              "      <td>Calm, no wind</td>\n",
              "      <td>0.0</td>\n",
              "      <td>60%.</td>\n",
              "      <td></td>\n",
              "      <td>No Stratocumulus, Stratus, Cumulus or Cumuloni...</td>\n",
              "      <td>no clouds</td>\n",
              "      <td>2500 or more, or no clouds.</td>\n",
              "      <td>No Altocumulus, Altostratus or Nimbostratus.</td>\n",
              "      <td>10</td>\n",
              "      <td>23.1</td>\n",
              "      <td>No precipitation</td>\n",
              "      <td>3.0</td>\n",
              "    </tr>\n",
              "    <tr>\n",
              "      <th>1</th>\n",
              "      <td>NaT</td>\n",
              "      <td>28</td>\n",
              "      <td>757.6</td>\n",
              "      <td>758.5</td>\n",
              "      <td>0.002444</td>\n",
              "      <td>83.0</td>\n",
              "      <td>Calm, no wind</td>\n",
              "      <td>0.0</td>\n",
              "      <td>40%.</td>\n",
              "      <td></td>\n",
              "      <td>Cumulus humilis or Cumulus fractus other than ...</td>\n",
              "      <td>10%  or less, but not 0</td>\n",
              "      <td>300-600</td>\n",
              "      <td>No Altocumulus, Altostratus or Nimbostratus.</td>\n",
              "      <td>10</td>\n",
              "      <td>25.5</td>\n",
              "      <td>No precipitation</td>\n",
              "      <td>3.0</td>\n",
              "    </tr>\n",
              "    <tr>\n",
              "      <th>2</th>\n",
              "      <td>NaT</td>\n",
              "      <td>25</td>\n",
              "      <td>756.3</td>\n",
              "      <td>757.2</td>\n",
              "      <td>-1.300000</td>\n",
              "      <td>93.0</td>\n",
              "      <td>Calm, no wind</td>\n",
              "      <td>0.0</td>\n",
              "      <td>50%.</td>\n",
              "      <td></td>\n",
              "      <td>No Stratocumulus, Stratus, Cumulus or Cumuloni...</td>\n",
              "      <td>no clouds</td>\n",
              "      <td>2500 or more, or no clouds.</td>\n",
              "      <td>No Altocumulus, Altostratus or Nimbostratus.</td>\n",
              "      <td>9</td>\n",
              "      <td>24.2</td>\n",
              "      <td>No precipitation</td>\n",
              "      <td>3.0</td>\n",
              "    </tr>\n",
              "    <tr>\n",
              "      <th>3</th>\n",
              "      <td>NaT</td>\n",
              "      <td>26</td>\n",
              "      <td>757.6</td>\n",
              "      <td>758.5</td>\n",
              "      <td>0.002444</td>\n",
              "      <td>89.0</td>\n",
              "      <td>Calm, no wind</td>\n",
              "      <td>0.0</td>\n",
              "      <td>40%.</td>\n",
              "      <td></td>\n",
              "      <td>Cumulus humilis or Cumulus fractus other than ...</td>\n",
              "      <td>20–30%.</td>\n",
              "      <td>300-600</td>\n",
              "      <td>No Altocumulus, Altostratus or Nimbostratus.</td>\n",
              "      <td>20</td>\n",
              "      <td>24.5</td>\n",
              "      <td>No precipitation</td>\n",
              "      <td>3.0</td>\n",
              "    </tr>\n",
              "    <tr>\n",
              "      <th>4</th>\n",
              "      <td>NaT</td>\n",
              "      <td>27</td>\n",
              "      <td>757.1</td>\n",
              "      <td>758.0</td>\n",
              "      <td>0.002444</td>\n",
              "      <td>80.0</td>\n",
              "      <td>Wind blowing from the north-east</td>\n",
              "      <td>3.0</td>\n",
              "      <td>70 – 80%.</td>\n",
              "      <td></td>\n",
              "      <td>Cumulus humilis or Cumulus fractus other than ...</td>\n",
              "      <td>10%  or less, but not 0</td>\n",
              "      <td>300-600</td>\n",
              "      <td>No Altocumulus, Altostratus or Nimbostratus.</td>\n",
              "      <td>20</td>\n",
              "      <td>23.6</td>\n",
              "      <td>No precipitation</td>\n",
              "      <td>3.0</td>\n",
              "    </tr>\n",
              "    <tr>\n",
              "      <th>5</th>\n",
              "      <td>NaT</td>\n",
              "      <td>25</td>\n",
              "      <td>756.4</td>\n",
              "      <td>757.4</td>\n",
              "      <td>-1.400000</td>\n",
              "      <td>90.0</td>\n",
              "      <td>Wind blowing from the north-east</td>\n",
              "      <td>1.0</td>\n",
              "      <td>10%  or less, but not 0</td>\n",
              "      <td></td>\n",
              "      <td>No Stratocumulus, Stratus, Cumulus or Cumuloni...</td>\n",
              "      <td>no clouds</td>\n",
              "      <td>2500 or more, or no clouds.</td>\n",
              "      <td>No Altocumulus, Altostratus or Nimbostratus.</td>\n",
              "      <td>10</td>\n",
              "      <td>23.4</td>\n",
              "      <td>No precipitation</td>\n",
              "      <td>3.0</td>\n",
              "    </tr>\n",
              "    <tr>\n",
              "      <th>6</th>\n",
              "      <td>NaT</td>\n",
              "      <td>26</td>\n",
              "      <td>757.8</td>\n",
              "      <td>758.7</td>\n",
              "      <td>0.002444</td>\n",
              "      <td>84.0</td>\n",
              "      <td>Wind blowing from the north-east</td>\n",
              "      <td>3.0</td>\n",
              "      <td>40%.</td>\n",
              "      <td></td>\n",
              "      <td>No Stratocumulus, Stratus, Cumulus or Cumuloni...</td>\n",
              "      <td>no clouds</td>\n",
              "      <td>2500 or more, or no clouds.</td>\n",
              "      <td>No Altocumulus, Altostratus or Nimbostratus.</td>\n",
              "      <td>10</td>\n",
              "      <td>23.5</td>\n",
              "      <td>No precipitation</td>\n",
              "      <td>3.0</td>\n",
              "    </tr>\n",
              "    <tr>\n",
              "      <th>7</th>\n",
              "      <td>NaT</td>\n",
              "      <td>27</td>\n",
              "      <td>757.3</td>\n",
              "      <td>758.2</td>\n",
              "      <td>0.002444</td>\n",
              "      <td>77.0</td>\n",
              "      <td>Wind blowing from the north-east</td>\n",
              "      <td>3.0</td>\n",
              "      <td>50%.</td>\n",
              "      <td></td>\n",
              "      <td>No Stratocumulus, Stratus, Cumulus or Cumuloni...</td>\n",
              "      <td>40%.</td>\n",
              "      <td>2500 or more, or no clouds.</td>\n",
              "      <td>Altocumulus translucidus or opacus in two or m...</td>\n",
              "      <td>20</td>\n",
              "      <td>22.6</td>\n",
              "      <td>No precipitation</td>\n",
              "      <td>3.0</td>\n",
              "    </tr>\n",
              "    <tr>\n",
              "      <th>8</th>\n",
              "      <td>NaT</td>\n",
              "      <td>26</td>\n",
              "      <td>757.0</td>\n",
              "      <td>757.9</td>\n",
              "      <td>0.002444</td>\n",
              "      <td>79.0</td>\n",
              "      <td>Wind blowing from the north-east</td>\n",
              "      <td>3.0</td>\n",
              "      <td>no clouds</td>\n",
              "      <td></td>\n",
              "      <td>Unknown</td>\n",
              "      <td>Unknown</td>\n",
              "      <td>Unknown</td>\n",
              "      <td>Unknown</td>\n",
              "      <td>10</td>\n",
              "      <td>22.3</td>\n",
              "      <td>No precipitation</td>\n",
              "      <td>3.0</td>\n",
              "    </tr>\n",
              "    <tr>\n",
              "      <th>9</th>\n",
              "      <td>NaT</td>\n",
              "      <td>29</td>\n",
              "      <td>754.7</td>\n",
              "      <td>755.6</td>\n",
              "      <td>0.002444</td>\n",
              "      <td>74.0</td>\n",
              "      <td>Wind blowing from the north-west</td>\n",
              "      <td>6.0</td>\n",
              "      <td>60%.</td>\n",
              "      <td></td>\n",
              "      <td>Cumulus mediocris or congestus, with or withou...</td>\n",
              "      <td>20–30%.</td>\n",
              "      <td>300-600</td>\n",
              "      <td>No Altocumulus, Altostratus or Nimbostratus.</td>\n",
              "      <td>9</td>\n",
              "      <td>24.2</td>\n",
              "      <td>No precipitation</td>\n",
              "      <td>3.0</td>\n",
              "    </tr>\n",
              "    <tr>\n",
              "      <th>10</th>\n",
              "      <td>NaT</td>\n",
              "      <td>32</td>\n",
              "      <td>757.3</td>\n",
              "      <td>758.2</td>\n",
              "      <td>-0.800000</td>\n",
              "      <td>55.0</td>\n",
              "      <td>Wind blowing from the north-northeast</td>\n",
              "      <td>4.0</td>\n",
              "      <td>50%.</td>\n",
              "      <td></td>\n",
              "      <td>Cumulus humilis or Cumulus fractus other than ...</td>\n",
              "      <td>40%.</td>\n",
              "      <td>300-600</td>\n",
              "      <td>No Altocumulus, Altostratus or Nimbostratus.</td>\n",
              "      <td>20</td>\n",
              "      <td>22.0</td>\n",
              "      <td>No precipitation</td>\n",
              "      <td>3.0</td>\n",
              "    </tr>\n",
              "    <tr>\n",
              "      <th>11</th>\n",
              "      <td>NaT</td>\n",
              "      <td>27</td>\n",
              "      <td>758.1</td>\n",
              "      <td>758.9</td>\n",
              "      <td>1.600000</td>\n",
              "      <td>80.0</td>\n",
              "      <td>Wind blowing from the north-east</td>\n",
              "      <td>4.0</td>\n",
              "      <td>40%.</td>\n",
              "      <td></td>\n",
              "      <td>No Stratocumulus, Stratus, Cumulus or Cumuloni...</td>\n",
              "      <td>no clouds</td>\n",
              "      <td>2500 or more, or no clouds.</td>\n",
              "      <td>No Altocumulus, Altostratus or Nimbostratus.</td>\n",
              "      <td>20</td>\n",
              "      <td>23.7</td>\n",
              "      <td>No precipitation</td>\n",
              "      <td>3.0</td>\n",
              "    </tr>\n",
              "    <tr>\n",
              "      <th>12</th>\n",
              "      <td>NaT</td>\n",
              "      <td>23</td>\n",
              "      <td>756.5</td>\n",
              "      <td>757.4</td>\n",
              "      <td>0.002444</td>\n",
              "      <td>94.0</td>\n",
              "      <td>Calm, no wind</td>\n",
              "      <td>0.0</td>\n",
              "      <td>no clouds</td>\n",
              "      <td></td>\n",
              "      <td>Unknown</td>\n",
              "      <td>Unknown</td>\n",
              "      <td>Unknown</td>\n",
              "      <td>Unknown</td>\n",
              "      <td>10</td>\n",
              "      <td>22.7</td>\n",
              "      <td>No precipitation</td>\n",
              "      <td>3.0</td>\n",
              "    </tr>\n",
              "    <tr>\n",
              "      <th>13</th>\n",
              "      <td>NaT</td>\n",
              "      <td>26</td>\n",
              "      <td>757.8</td>\n",
              "      <td>758.7</td>\n",
              "      <td>0.002444</td>\n",
              "      <td>83.0</td>\n",
              "      <td>Wind blowing from the north-east</td>\n",
              "      <td>2.0</td>\n",
              "      <td>10%  or less, but not 0</td>\n",
              "      <td></td>\n",
              "      <td>No Stratocumulus, Stratus, Cumulus or Cumuloni...</td>\n",
              "      <td>no clouds</td>\n",
              "      <td>2500 or more, or no clouds.</td>\n",
              "      <td>No Altocumulus, Altostratus or Nimbostratus.</td>\n",
              "      <td>20</td>\n",
              "      <td>22.8</td>\n",
              "      <td>No precipitation</td>\n",
              "      <td>3.0</td>\n",
              "    </tr>\n",
              "    <tr>\n",
              "      <th>14</th>\n",
              "      <td>NaT</td>\n",
              "      <td>31</td>\n",
              "      <td>757.6</td>\n",
              "      <td>758.5</td>\n",
              "      <td>-0.300000</td>\n",
              "      <td>58.0</td>\n",
              "      <td>Wind blowing from the north-east</td>\n",
              "      <td>4.0</td>\n",
              "      <td>70 – 80%.</td>\n",
              "      <td></td>\n",
              "      <td>Cumulus humilis or Cumulus fractus other than ...</td>\n",
              "      <td>50%.</td>\n",
              "      <td>300-600</td>\n",
              "      <td>No Altocumulus, Altostratus or Nimbostratus.</td>\n",
              "      <td>15</td>\n",
              "      <td>22.6</td>\n",
              "      <td>No precipitation</td>\n",
              "      <td>3.0</td>\n",
              "    </tr>\n",
              "    <tr>\n",
              "      <th>15</th>\n",
              "      <td>NaT</td>\n",
              "      <td>27</td>\n",
              "      <td>757.9</td>\n",
              "      <td>758.8</td>\n",
              "      <td>1.500000</td>\n",
              "      <td>80.0</td>\n",
              "      <td>Wind blowing from the north</td>\n",
              "      <td>1.0</td>\n",
              "      <td>50%.</td>\n",
              "      <td></td>\n",
              "      <td>No Stratocumulus, Stratus, Cumulus or Cumuloni...</td>\n",
              "      <td>no clouds</td>\n",
              "      <td>2500 or more, or no clouds.</td>\n",
              "      <td>No Altocumulus, Altostratus or Nimbostratus.</td>\n",
              "      <td>10</td>\n",
              "      <td>23.5</td>\n",
              "      <td>No precipitation</td>\n",
              "      <td>3.0</td>\n",
              "    </tr>\n",
              "    <tr>\n",
              "      <th>16</th>\n",
              "      <td>NaT</td>\n",
              "      <td>24</td>\n",
              "      <td>756.4</td>\n",
              "      <td>757.3</td>\n",
              "      <td>0.002444</td>\n",
              "      <td>90.0</td>\n",
              "      <td>Calm, no wind</td>\n",
              "      <td>0.0</td>\n",
              "      <td>50%.</td>\n",
              "      <td></td>\n",
              "      <td>No Stratocumulus, Stratus, Cumulus or Cumuloni...</td>\n",
              "      <td>no clouds</td>\n",
              "      <td>2500 or more, or no clouds.</td>\n",
              "      <td>No Altocumulus, Altostratus or Nimbostratus.</td>\n",
              "      <td>9</td>\n",
              "      <td>22.5</td>\n",
              "      <td>No precipitation</td>\n",
              "      <td>3.0</td>\n",
              "    </tr>\n",
              "    <tr>\n",
              "      <th>17</th>\n",
              "      <td>NaT</td>\n",
              "      <td>26</td>\n",
              "      <td>757.6</td>\n",
              "      <td>758.5</td>\n",
              "      <td>0.002444</td>\n",
              "      <td>76.0</td>\n",
              "      <td>Wind blowing from the north-east</td>\n",
              "      <td>2.0</td>\n",
              "      <td>60%.</td>\n",
              "      <td></td>\n",
              "      <td>Cumulus humilis or Cumulus fractus other than ...</td>\n",
              "      <td>20–30%.</td>\n",
              "      <td>300-600</td>\n",
              "      <td>Altocumulus translucidus at a single level.</td>\n",
              "      <td>20</td>\n",
              "      <td>22.1</td>\n",
              "      <td>No precipitation</td>\n",
              "      <td>3.0</td>\n",
              "    </tr>\n",
              "    <tr>\n",
              "      <th>18</th>\n",
              "      <td>NaT</td>\n",
              "      <td>31</td>\n",
              "      <td>754.7</td>\n",
              "      <td>755.5</td>\n",
              "      <td>0.000000</td>\n",
              "      <td>53.0</td>\n",
              "      <td>Wind blowing from the north-east</td>\n",
              "      <td>5.0</td>\n",
              "      <td>90  or more, but not 100%</td>\n",
              "      <td></td>\n",
              "      <td>Cumulus humilis or Cumulus fractus other than ...</td>\n",
              "      <td>20–30%.</td>\n",
              "      <td>300-600</td>\n",
              "      <td>Altocumulus cumulogenitus (or cumulonimbogenit...</td>\n",
              "      <td>15</td>\n",
              "      <td>20.4</td>\n",
              "      <td>No precipitation</td>\n",
              "      <td>3.0</td>\n",
              "    </tr>\n",
              "    <tr>\n",
              "      <th>19</th>\n",
              "      <td>NaT</td>\n",
              "      <td>33</td>\n",
              "      <td>754.7</td>\n",
              "      <td>755.6</td>\n",
              "      <td>0.002444</td>\n",
              "      <td>50.0</td>\n",
              "      <td>Wind blowing from the north-east</td>\n",
              "      <td>4.0</td>\n",
              "      <td>70 – 80%.</td>\n",
              "      <td></td>\n",
              "      <td>Cumulus humilis or Cumulus fractus other than ...</td>\n",
              "      <td>20–30%.</td>\n",
              "      <td>300-600</td>\n",
              "      <td>Altostratus opacus or Nimbostratus.</td>\n",
              "      <td>15</td>\n",
              "      <td>21.2</td>\n",
              "      <td>No precipitation</td>\n",
              "      <td>3.0</td>\n",
              "    </tr>\n",
              "  </tbody>\n",
              "</table>\n",
              "</div>\n",
              "      <button class=\"colab-df-convert\" onclick=\"convertToInteractive('df-ac222cb8-3d15-4271-9b49-8ae4660e7543')\"\n",
              "              title=\"Convert this dataframe to an interactive table.\"\n",
              "              style=\"display:none;\">\n",
              "        \n",
              "  <svg xmlns=\"http://www.w3.org/2000/svg\" height=\"24px\"viewBox=\"0 0 24 24\"\n",
              "       width=\"24px\">\n",
              "    <path d=\"M0 0h24v24H0V0z\" fill=\"none\"/>\n",
              "    <path d=\"M18.56 5.44l.94 2.06.94-2.06 2.06-.94-2.06-.94-.94-2.06-.94 2.06-2.06.94zm-11 1L8.5 8.5l.94-2.06 2.06-.94-2.06-.94L8.5 2.5l-.94 2.06-2.06.94zm10 10l.94 2.06.94-2.06 2.06-.94-2.06-.94-.94-2.06-.94 2.06-2.06.94z\"/><path d=\"M17.41 7.96l-1.37-1.37c-.4-.4-.92-.59-1.43-.59-.52 0-1.04.2-1.43.59L10.3 9.45l-7.72 7.72c-.78.78-.78 2.05 0 2.83L4 21.41c.39.39.9.59 1.41.59.51 0 1.02-.2 1.41-.59l7.78-7.78 2.81-2.81c.8-.78.8-2.07 0-2.86zM5.41 20L4 18.59l7.72-7.72 1.47 1.35L5.41 20z\"/>\n",
              "  </svg>\n",
              "      </button>\n",
              "      \n",
              "  <style>\n",
              "    .colab-df-container {\n",
              "      display:flex;\n",
              "      flex-wrap:wrap;\n",
              "      gap: 12px;\n",
              "    }\n",
              "\n",
              "    .colab-df-convert {\n",
              "      background-color: #E8F0FE;\n",
              "      border: none;\n",
              "      border-radius: 50%;\n",
              "      cursor: pointer;\n",
              "      display: none;\n",
              "      fill: #1967D2;\n",
              "      height: 32px;\n",
              "      padding: 0 0 0 0;\n",
              "      width: 32px;\n",
              "    }\n",
              "\n",
              "    .colab-df-convert:hover {\n",
              "      background-color: #E2EBFA;\n",
              "      box-shadow: 0px 1px 2px rgba(60, 64, 67, 0.3), 0px 1px 3px 1px rgba(60, 64, 67, 0.15);\n",
              "      fill: #174EA6;\n",
              "    }\n",
              "\n",
              "    [theme=dark] .colab-df-convert {\n",
              "      background-color: #3B4455;\n",
              "      fill: #D2E3FC;\n",
              "    }\n",
              "\n",
              "    [theme=dark] .colab-df-convert:hover {\n",
              "      background-color: #434B5C;\n",
              "      box-shadow: 0px 1px 3px 1px rgba(0, 0, 0, 0.15);\n",
              "      filter: drop-shadow(0px 1px 2px rgba(0, 0, 0, 0.3));\n",
              "      fill: #FFFFFF;\n",
              "    }\n",
              "  </style>\n",
              "\n",
              "      <script>\n",
              "        const buttonEl =\n",
              "          document.querySelector('#df-ac222cb8-3d15-4271-9b49-8ae4660e7543 button.colab-df-convert');\n",
              "        buttonEl.style.display =\n",
              "          google.colab.kernel.accessAllowed ? 'block' : 'none';\n",
              "\n",
              "        async function convertToInteractive(key) {\n",
              "          const element = document.querySelector('#df-ac222cb8-3d15-4271-9b49-8ae4660e7543');\n",
              "          const dataTable =\n",
              "            await google.colab.kernel.invokeFunction('convertToInteractive',\n",
              "                                                     [key], {});\n",
              "          if (!dataTable) return;\n",
              "\n",
              "          const docLinkHtml = 'Like what you see? Visit the ' +\n",
              "            '<a target=\"_blank\" href=https://colab.research.google.com/notebooks/data_table.ipynb>data table notebook</a>'\n",
              "            + ' to learn more about interactive tables.';\n",
              "          element.innerHTML = '';\n",
              "          dataTable['output_type'] = 'display_data';\n",
              "          await google.colab.output.renderOutput(dataTable, element);\n",
              "          const docLink = document.createElement('div');\n",
              "          docLink.innerHTML = docLinkHtml;\n",
              "          element.appendChild(docLink);\n",
              "        }\n",
              "      </script>\n",
              "    </div>\n",
              "  </div>\n",
              "  "
            ]
          },
          "metadata": {},
          "execution_count": 28
        }
      ]
    },
    {
      "cell_type": "code",
      "source": [
        "#Declare X & y\n",
        "X = df[features]\n",
        "y = df['T']"
      ],
      "metadata": {
        "id": "DxbtRKusF8uj"
      },
      "execution_count": null,
      "outputs": []
    },
    {
      "cell_type": "code",
      "source": [
        "#split training and testing dataset\n",
        "from sklearn.model_selection import train_test_split\n",
        "X_train, X_test, y_train, y_test = train_test_split(X, y, random_state=42)"
      ],
      "metadata": {
        "id": "wJJ14EnBGFCI"
      },
      "execution_count": null,
      "outputs": []
    },
    {
      "cell_type": "code",
      "source": [
        "#Use 75% for training \n",
        "len(X_train) / len(X)"
      ],
      "metadata": {
        "colab": {
          "base_uri": "https://localhost:8080/"
        },
        "id": "GEiDeeW7GPGp",
        "outputId": "7d5a6a81-1c48-4788-d0f9-0e1cca5aeac8"
      },
      "execution_count": null,
      "outputs": [
        {
          "output_type": "execute_result",
          "data": {
            "text/plain": [
              "0.75"
            ]
          },
          "metadata": {},
          "execution_count": 31
        }
      ]
    },
    {
      "cell_type": "code",
      "source": [
        "#scaling\n",
        "from sklearn.preprocessing import StandardScaler\n",
        "stdscalar = StandardScaler()\n",
        "X_train = stdscalar.fit_transform(X_train)\n",
        "X_test = stdscalar.transform(X_test)\n",
        "X_train"
      ],
      "metadata": {
        "colab": {
          "base_uri": "https://localhost:8080/"
        },
        "id": "DzTYnHDgGVdl",
        "outputId": "237f3347-3663-45e0-d058-5d9de42f6db9"
      },
      "execution_count": null,
      "outputs": [
        {
          "output_type": "execute_result",
          "data": {
            "text/plain": [
              "array([[0.],\n",
              "       [0.],\n",
              "       [0.],\n",
              "       ...,\n",
              "       [0.],\n",
              "       [0.],\n",
              "       [0.]])"
            ]
          },
          "metadata": {},
          "execution_count": 32
        }
      ]
    },
    {
      "cell_type": "code",
      "source": [
        "#provide 10 neighbors\n",
        "from sklearn.neighbors import KNeighborsClassifier\n",
        "clf = KNeighborsClassifier(n_neighbors=10)"
      ],
      "metadata": {
        "id": "Cp9GURkHGlkI"
      },
      "execution_count": null,
      "outputs": []
    },
    {
      "cell_type": "code",
      "source": [
        "#fit training data set\n",
        "clf.fit(X_train, y_train)"
      ],
      "metadata": {
        "colab": {
          "base_uri": "https://localhost:8080/"
        },
        "id": "tqaVqWjPG8uH",
        "outputId": "3b5d8b71-9d22-43f2-92cd-c203d2434188"
      },
      "execution_count": null,
      "outputs": [
        {
          "output_type": "execute_result",
          "data": {
            "text/plain": [
              "KNeighborsClassifier(n_neighbors=10)"
            ]
          },
          "metadata": {},
          "execution_count": 34
        }
      ]
    },
    {
      "cell_type": "code",
      "source": [
        "y_pred = clf.predict(X_test)\n",
        "y_pred"
      ],
      "metadata": {
        "colab": {
          "base_uri": "https://localhost:8080/"
        },
        "id": "j96MI_EzHCcc",
        "outputId": "76c6c25f-8d66-45af-8cd8-0553a5733d2c"
      },
      "execution_count": null,
      "outputs": [
        {
          "output_type": "execute_result",
          "data": {
            "text/plain": [
              "array([26, 26, 26, ..., 26, 26, 26])"
            ]
          },
          "metadata": {},
          "execution_count": 35
        }
      ]
    },
    {
      "cell_type": "code",
      "source": [
        "#Score\n",
        "clf.score(X_test, y_test)"
      ],
      "metadata": {
        "colab": {
          "base_uri": "https://localhost:8080/"
        },
        "id": "481UgMGsHJyS",
        "outputId": "e6a20b68-ddf3-4f06-cae0-9339e48894aa"
      },
      "execution_count": null,
      "outputs": [
        {
          "output_type": "execute_result",
          "data": {
            "text/plain": [
              "0.11923800564440264"
            ]
          },
          "metadata": {},
          "execution_count": 36
        }
      ]
    },
    {
      "cell_type": "code",
      "source": [
        "scores = []\n",
        "for n in range(1, 20):\n",
        "    clf = KNeighborsClassifier(n_neighbors=n)\n",
        "    clf.fit(X_train, y_train)\n",
        "    scores.append(clf.score(X_test, y_test))"
      ],
      "metadata": {
        "id": "nf7qNMu-HPRV"
      },
      "execution_count": null,
      "outputs": []
    },
    {
      "cell_type": "code",
      "source": [
        "import matplotlib.pyplot as plt\n",
        "%matplotlib inline\n",
        "\n",
        "plt.plot(range(1, 20), scores)"
      ],
      "metadata": {
        "colab": {
          "base_uri": "https://localhost:8080/",
          "height": 282
        },
        "id": "cJx3098GHTwu",
        "outputId": "8eb4acae-a9f2-4641-a776-c782b76cd922"
      },
      "execution_count": null,
      "outputs": [
        {
          "output_type": "execute_result",
          "data": {
            "text/plain": [
              "[<matplotlib.lines.Line2D at 0x7ff0bd03b290>]"
            ]
          },
          "metadata": {},
          "execution_count": 38
        },
        {
          "output_type": "display_data",
          "data": {
            "text/plain": [
              "<Figure size 432x288 with 1 Axes>"
            ],
            "image/png": "[encoded data removed]"
          },
          "metadata": {
            "needs_background": "light"
          }
        }
      ]
    },
    {
      "cell_type": "code",
      "source": [
        "plt.hist(df['T'])"
      ],
      "metadata": {
        "colab": {
          "base_uri": "https://localhost:8080/",
          "height": 334
        },
        "id": "7SvEZZ-_Hdge",
        "outputId": "ed7ba5c8-0731-4393-f7eb-9a72e13f2c85"
      },
      "execution_count": null,
      "outputs": [
        {
          "output_type": "execute_result",
          "data": {
            "text/plain": [
              "(array([5.400e+01, 2.640e+02, 2.603e+03, 3.973e+03, 4.854e+03, 3.516e+03,\n",
              "        1.505e+03, 2.290e+02, 9.000e+00, 1.000e+00]),\n",
              " array([18. , 20.1, 22.2, 24.3, 26.4, 28.5, 30.6, 32.7, 34.8, 36.9, 39. ]),\n",
              " <a list of 10 Patch objects>)"
            ]
          },
          "metadata": {},
          "execution_count": 39
        },
        {
          "output_type": "display_data",
          "data": {
            "text/plain": [
              "<Figure size 432x288 with 1 Axes>"
            ],
            "image/png": "[encoded data removed]"
          },
          "metadata": {
            "needs_background": "light"
          }
        }
      ]
    }
  ],
  "metadata": {
    "colab": {
      "name": "Weather_Prediction_KNN.ipynb",
      "provenance": [],
      "collapsed_sections": [],
      "mount_file_id": "197BZjFxqaEvNuKt4fzXNshfo9_AGgN2U",
      "authorship_tag": "ABX9TyMBa2VAlN1ChtJK8LIqyBfp",
      "include_colab_link": true
    },
    "kernelspec": {
      "display_name": "Python 3",
      "name": "python3"
    },
    "language_info": {
      "name": "python"
    }
  },
  "nbformat": 4,
  "nbformat_minor": 0
}